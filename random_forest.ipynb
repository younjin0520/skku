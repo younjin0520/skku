{
  "nbformat": 4,
  "nbformat_minor": 0,
  "metadata": {
    "colab": {
      "name": "random_forest.ipynb",
      "provenance": [],
      "collapsed_sections": []
    },
    "kernelspec": {
      "name": "python3",
      "display_name": "Python 3"
    }
  },
  "cells": [
    {
      "cell_type": "code",
      "metadata": {
        "colab": {
          "base_uri": "https://localhost:8080/",
          "height": 407
        },
        "id": "_ZwjPaoZmX5i",
        "outputId": "15353486-ac62-4bc4-85c4-6bc76688a43c"
      },
      "source": [
        "from sklearn.metrics import accuracy_score\n",
        "import numpy as np\n",
        "import pandas as pd\n",
        "\n",
        "data = pd.read_excel('./data_new.xlsx')\n",
        "\n",
        "x = data.drop(['price_rate'], axis=1)\n",
        "x = x.drop(['price'],axis=1)\n",
        "x = x.drop(['name'],axis=1)\n",
        "y = data['price']\n",
        "x"
      ],
      "execution_count": 1,
      "outputs": [
        {
          "output_type": "execute_result",
          "data": {
            "text/html": [
              "<div>\n",
              "<style scoped>\n",
              "    .dataframe tbody tr th:only-of-type {\n",
              "        vertical-align: middle;\n",
              "    }\n",
              "\n",
              "    .dataframe tbody tr th {\n",
              "        vertical-align: top;\n",
              "    }\n",
              "\n",
              "    .dataframe thead th {\n",
              "        text-align: right;\n",
              "    }\n",
              "</style>\n",
              "<table border=\"1\" class=\"dataframe\">\n",
              "  <thead>\n",
              "    <tr style=\"text-align: right;\">\n",
              "      <th></th>\n",
              "      <th>state</th>\n",
              "      <th>date</th>\n",
              "      <th>wifi</th>\n",
              "      <th>used</th>\n",
              "      <th>capacity</th>\n",
              "      <th>type</th>\n",
              "      <th>price_i</th>\n",
              "    </tr>\n",
              "  </thead>\n",
              "  <tbody>\n",
              "    <tr>\n",
              "      <th>0</th>\n",
              "      <td>C</td>\n",
              "      <td>2020.12</td>\n",
              "      <td>wifi</td>\n",
              "      <td>4.09</td>\n",
              "      <td>128</td>\n",
              "      <td>pro</td>\n",
              "      <td>960000</td>\n",
              "    </tr>\n",
              "    <tr>\n",
              "      <th>1</th>\n",
              "      <td>B</td>\n",
              "      <td>2021.01</td>\n",
              "      <td>wifi</td>\n",
              "      <td>0.98</td>\n",
              "      <td>128</td>\n",
              "      <td>pro</td>\n",
              "      <td>1299000</td>\n",
              "    </tr>\n",
              "    <tr>\n",
              "      <th>2</th>\n",
              "      <td>C</td>\n",
              "      <td>2021.03</td>\n",
              "      <td>wifi</td>\n",
              "      <td>1.00</td>\n",
              "      <td>256</td>\n",
              "      <td>pro</td>\n",
              "      <td>1429000</td>\n",
              "    </tr>\n",
              "    <tr>\n",
              "      <th>3</th>\n",
              "      <td>B</td>\n",
              "      <td>2021.02</td>\n",
              "      <td>lte</td>\n",
              "      <td>2.99</td>\n",
              "      <td>128</td>\n",
              "      <td>normal</td>\n",
              "      <td>720000</td>\n",
              "    </tr>\n",
              "    <tr>\n",
              "      <th>4</th>\n",
              "      <td>C</td>\n",
              "      <td>2021.01</td>\n",
              "      <td>lte</td>\n",
              "      <td>6.91</td>\n",
              "      <td>64</td>\n",
              "      <td>mini</td>\n",
              "      <td>710000</td>\n",
              "    </tr>\n",
              "    <tr>\n",
              "      <th>...</th>\n",
              "      <td>...</td>\n",
              "      <td>...</td>\n",
              "      <td>...</td>\n",
              "      <td>...</td>\n",
              "      <td>...</td>\n",
              "      <td>...</td>\n",
              "      <td>...</td>\n",
              "    </tr>\n",
              "    <tr>\n",
              "      <th>5998</th>\n",
              "      <td>C</td>\n",
              "      <td>2020.11</td>\n",
              "      <td>wifi</td>\n",
              "      <td>8.00</td>\n",
              "      <td>16</td>\n",
              "      <td>mini</td>\n",
              "      <td>420000</td>\n",
              "    </tr>\n",
              "    <tr>\n",
              "      <th>5999</th>\n",
              "      <td>C</td>\n",
              "      <td>2021.02</td>\n",
              "      <td>wifi</td>\n",
              "      <td>3.99</td>\n",
              "      <td>128</td>\n",
              "      <td>normal</td>\n",
              "      <td>550000</td>\n",
              "    </tr>\n",
              "    <tr>\n",
              "      <th>6000</th>\n",
              "      <td>B</td>\n",
              "      <td>2020.12</td>\n",
              "      <td>wifi</td>\n",
              "      <td>5.03</td>\n",
              "      <td>64</td>\n",
              "      <td>mini</td>\n",
              "      <td>600000</td>\n",
              "    </tr>\n",
              "    <tr>\n",
              "      <th>6001</th>\n",
              "      <td>A</td>\n",
              "      <td>2020.11</td>\n",
              "      <td>wifi</td>\n",
              "      <td>0.02</td>\n",
              "      <td>32</td>\n",
              "      <td>normal</td>\n",
              "      <td>449000</td>\n",
              "    </tr>\n",
              "    <tr>\n",
              "      <th>6002</th>\n",
              "      <td>C</td>\n",
              "      <td>2020.12</td>\n",
              "      <td>wifi</td>\n",
              "      <td>2.02</td>\n",
              "      <td>256</td>\n",
              "      <td>pro</td>\n",
              "      <td>1469000</td>\n",
              "    </tr>\n",
              "  </tbody>\n",
              "</table>\n",
              "<p>6003 rows × 7 columns</p>\n",
              "</div>"
            ],
            "text/plain": [
              "     state     date  wifi  used  capacity    type  price_i\n",
              "0        C  2020.12  wifi  4.09       128     pro   960000\n",
              "1        B  2021.01  wifi  0.98       128     pro  1299000\n",
              "2        C  2021.03  wifi  1.00       256     pro  1429000\n",
              "3        B  2021.02   lte  2.99       128  normal   720000\n",
              "4        C  2021.01   lte  6.91        64    mini   710000\n",
              "...    ...      ...   ...   ...       ...     ...      ...\n",
              "5998     C  2020.11  wifi  8.00        16    mini   420000\n",
              "5999     C  2021.02  wifi  3.99       128  normal   550000\n",
              "6000     B  2020.12  wifi  5.03        64    mini   600000\n",
              "6001     A  2020.11  wifi  0.02        32  normal   449000\n",
              "6002     C  2020.12  wifi  2.02       256     pro  1469000\n",
              "\n",
              "[6003 rows x 7 columns]"
            ]
          },
          "metadata": {
            "tags": []
          },
          "execution_count": 1
        }
      ]
    },
    {
      "cell_type": "code",
      "metadata": {
        "id": "TaDsXKpOuhhF"
      },
      "source": [
        "import random\n",
        "import os\n",
        "random.seed(42)\n",
        "np.random.seed(42)\n",
        "os.environ[\"PYTHONHASHSEED\"] = str(42)"
      ],
      "execution_count": 2,
      "outputs": []
    },
    {
      "cell_type": "code",
      "metadata": {
        "colab": {
          "base_uri": "https://localhost:8080/",
          "height": 407
        },
        "id": "pS-4QV_omoKw",
        "outputId": "ef6e01cf-be69-4b63-ad7f-184d55365e86"
      },
      "source": [
        "#문자를 숫자로 라벨링\n",
        "from sklearn.preprocessing import LabelEncoder\n",
        "encoder = LabelEncoder()\n",
        "#encoder.fit(x['name'])\n",
        "#x['name']=encoder.transform(x['name'])\n",
        "encoder.fit(x['state'])\n",
        "x['state']=encoder.transform(x['state'])\n",
        "encoder.fit(x['wifi'])\n",
        "x['wifi']=encoder.transform(x['wifi'])\n",
        "encoder.fit(x['type'])\n",
        "x['type']=encoder.transform(x['type'])\n",
        "x"
      ],
      "execution_count": 3,
      "outputs": [
        {
          "output_type": "execute_result",
          "data": {
            "text/html": [
              "<div>\n",
              "<style scoped>\n",
              "    .dataframe tbody tr th:only-of-type {\n",
              "        vertical-align: middle;\n",
              "    }\n",
              "\n",
              "    .dataframe tbody tr th {\n",
              "        vertical-align: top;\n",
              "    }\n",
              "\n",
              "    .dataframe thead th {\n",
              "        text-align: right;\n",
              "    }\n",
              "</style>\n",
              "<table border=\"1\" class=\"dataframe\">\n",
              "  <thead>\n",
              "    <tr style=\"text-align: right;\">\n",
              "      <th></th>\n",
              "      <th>state</th>\n",
              "      <th>date</th>\n",
              "      <th>wifi</th>\n",
              "      <th>used</th>\n",
              "      <th>capacity</th>\n",
              "      <th>type</th>\n",
              "      <th>price_i</th>\n",
              "    </tr>\n",
              "  </thead>\n",
              "  <tbody>\n",
              "    <tr>\n",
              "      <th>0</th>\n",
              "      <td>2</td>\n",
              "      <td>2020.12</td>\n",
              "      <td>1</td>\n",
              "      <td>4.09</td>\n",
              "      <td>128</td>\n",
              "      <td>3</td>\n",
              "      <td>960000</td>\n",
              "    </tr>\n",
              "    <tr>\n",
              "      <th>1</th>\n",
              "      <td>1</td>\n",
              "      <td>2021.01</td>\n",
              "      <td>1</td>\n",
              "      <td>0.98</td>\n",
              "      <td>128</td>\n",
              "      <td>3</td>\n",
              "      <td>1299000</td>\n",
              "    </tr>\n",
              "    <tr>\n",
              "      <th>2</th>\n",
              "      <td>2</td>\n",
              "      <td>2021.03</td>\n",
              "      <td>1</td>\n",
              "      <td>1.00</td>\n",
              "      <td>256</td>\n",
              "      <td>3</td>\n",
              "      <td>1429000</td>\n",
              "    </tr>\n",
              "    <tr>\n",
              "      <th>3</th>\n",
              "      <td>1</td>\n",
              "      <td>2021.02</td>\n",
              "      <td>0</td>\n",
              "      <td>2.99</td>\n",
              "      <td>128</td>\n",
              "      <td>2</td>\n",
              "      <td>720000</td>\n",
              "    </tr>\n",
              "    <tr>\n",
              "      <th>4</th>\n",
              "      <td>2</td>\n",
              "      <td>2021.01</td>\n",
              "      <td>0</td>\n",
              "      <td>6.91</td>\n",
              "      <td>64</td>\n",
              "      <td>1</td>\n",
              "      <td>710000</td>\n",
              "    </tr>\n",
              "    <tr>\n",
              "      <th>...</th>\n",
              "      <td>...</td>\n",
              "      <td>...</td>\n",
              "      <td>...</td>\n",
              "      <td>...</td>\n",
              "      <td>...</td>\n",
              "      <td>...</td>\n",
              "      <td>...</td>\n",
              "    </tr>\n",
              "    <tr>\n",
              "      <th>5998</th>\n",
              "      <td>2</td>\n",
              "      <td>2020.11</td>\n",
              "      <td>1</td>\n",
              "      <td>8.00</td>\n",
              "      <td>16</td>\n",
              "      <td>1</td>\n",
              "      <td>420000</td>\n",
              "    </tr>\n",
              "    <tr>\n",
              "      <th>5999</th>\n",
              "      <td>2</td>\n",
              "      <td>2021.02</td>\n",
              "      <td>1</td>\n",
              "      <td>3.99</td>\n",
              "      <td>128</td>\n",
              "      <td>2</td>\n",
              "      <td>550000</td>\n",
              "    </tr>\n",
              "    <tr>\n",
              "      <th>6000</th>\n",
              "      <td>1</td>\n",
              "      <td>2020.12</td>\n",
              "      <td>1</td>\n",
              "      <td>5.03</td>\n",
              "      <td>64</td>\n",
              "      <td>1</td>\n",
              "      <td>600000</td>\n",
              "    </tr>\n",
              "    <tr>\n",
              "      <th>6001</th>\n",
              "      <td>0</td>\n",
              "      <td>2020.11</td>\n",
              "      <td>1</td>\n",
              "      <td>0.02</td>\n",
              "      <td>32</td>\n",
              "      <td>2</td>\n",
              "      <td>449000</td>\n",
              "    </tr>\n",
              "    <tr>\n",
              "      <th>6002</th>\n",
              "      <td>2</td>\n",
              "      <td>2020.12</td>\n",
              "      <td>1</td>\n",
              "      <td>2.02</td>\n",
              "      <td>256</td>\n",
              "      <td>3</td>\n",
              "      <td>1469000</td>\n",
              "    </tr>\n",
              "  </tbody>\n",
              "</table>\n",
              "<p>6003 rows × 7 columns</p>\n",
              "</div>"
            ],
            "text/plain": [
              "      state     date  wifi  used  capacity  type  price_i\n",
              "0         2  2020.12     1  4.09       128     3   960000\n",
              "1         1  2021.01     1  0.98       128     3  1299000\n",
              "2         2  2021.03     1  1.00       256     3  1429000\n",
              "3         1  2021.02     0  2.99       128     2   720000\n",
              "4         2  2021.01     0  6.91        64     1   710000\n",
              "...     ...      ...   ...   ...       ...   ...      ...\n",
              "5998      2  2020.11     1  8.00        16     1   420000\n",
              "5999      2  2021.02     1  3.99       128     2   550000\n",
              "6000      1  2020.12     1  5.03        64     1   600000\n",
              "6001      0  2020.11     1  0.02        32     2   449000\n",
              "6002      2  2020.12     1  2.02       256     3  1469000\n",
              "\n",
              "[6003 rows x 7 columns]"
            ]
          },
          "metadata": {
            "tags": []
          },
          "execution_count": 3
        }
      ]
    },
    {
      "cell_type": "code",
      "metadata": {
        "colab": {
          "base_uri": "https://localhost:8080/"
        },
        "id": "Be6X5HdKmo3P",
        "outputId": "4eefd4c9-aa68-479a-cb52-ce7ec151083b"
      },
      "source": [
        "#test train 나누기\n",
        "from sklearn.model_selection import train_test_split\n",
        "x_train,x_test,y_train,y_test=train_test_split(x,y,train_size=0.9,test_size=0.1)\n",
        "x_test\n",
        "print(x_train.shape,x_test.shape)\n",
        "print(y_train.shape,y_test.shape)"
      ],
      "execution_count": 4,
      "outputs": [
        {
          "output_type": "stream",
          "text": [
            "(5402, 7) (601, 7)\n",
            "(5402,) (601,)\n"
          ],
          "name": "stdout"
        }
      ]
    },
    {
      "cell_type": "code",
      "metadata": {
        "colab": {
          "base_uri": "https://localhost:8080/"
        },
        "id": "OR0U6oE6D-gS",
        "outputId": "a1402383-0462-4bb0-b128-1c3ae30694fc"
      },
      "source": [
        "#기본적인 랜덤 포레스트\n",
        "from sklearn.model_selection import cross_val_score, KFold\n",
        "from sklearn.ensemble import RandomForestRegressor\n",
        "from sklearn.model_selection import GridSearchCV\n",
        "from sklearn.metrics import mean_squared_error\n",
        "from sklearn.ensemble import RandomForestRegressor\n",
        "rf2 = RandomForestRegressor()\n",
        "rf2.fit(x_train,y_train)\n",
        "y_predict2 = rf2.predict(x_test)\n",
        "rmse2 = np.sqrt(mean_squared_error(y_predict2,y_test))\n",
        "print(rf2.score(x_test,y_test))\n",
        "print(rmse2)"
      ],
      "execution_count": 5,
      "outputs": [
        {
          "output_type": "stream",
          "text": [
            "0.8791060963227557\n",
            "109166.18219525402\n"
          ],
          "name": "stdout"
        }
      ]
    },
    {
      "cell_type": "code",
      "metadata": {
        "colab": {
          "base_uri": "https://localhost:8080/"
        },
        "id": "poz1tH1Emrmt",
        "outputId": "d007842b-063b-4f0c-f0ce-c6dc0706539c"
      },
      "source": [
        "rf = RandomForestRegressor(random_state=0,n_jobs=-1)\n",
        "kfold = KFold(n_splits=5, shuffle=True) #5개의 그룹으로 나누어줌\n",
        "\n",
        "parameters={'n_estimators':[50,100,150,200],\n",
        "            'max_depth' : [6,8,10],\n",
        "            'min_samples_split' : [2,3,4,5],\n",
        "            'min_samples_leaf':[1,2,3]}\n",
        "parameter={}\n",
        "grid = GridSearchCV(rf,param_grid=parameters,cv=kfold, refit = True)\n",
        "grid.fit(x_train, y_train)"
      ],
      "execution_count": 6,
      "outputs": [
        {
          "output_type": "execute_result",
          "data": {
            "text/plain": [
              "GridSearchCV(cv=KFold(n_splits=5, random_state=None, shuffle=True),\n",
              "             error_score=nan,\n",
              "             estimator=RandomForestRegressor(bootstrap=True, ccp_alpha=0.0,\n",
              "                                             criterion='mse', max_depth=None,\n",
              "                                             max_features='auto',\n",
              "                                             max_leaf_nodes=None,\n",
              "                                             max_samples=None,\n",
              "                                             min_impurity_decrease=0.0,\n",
              "                                             min_impurity_split=None,\n",
              "                                             min_samples_leaf=1,\n",
              "                                             min_samples_split=2,\n",
              "                                             min_weight_fraction_leaf=0.0,\n",
              "                                             n_estimators=100, n_jobs=-1,\n",
              "                                             oob_score=False, random_state=0,\n",
              "                                             verbose=0, warm_start=False),\n",
              "             iid='deprecated', n_jobs=None,\n",
              "             param_grid={'max_depth': [6, 8, 10], 'min_samples_leaf': [1, 2, 3],\n",
              "                         'min_samples_split': [2, 3, 4, 5],\n",
              "                         'n_estimators': [50, 100, 150, 200]},\n",
              "             pre_dispatch='2*n_jobs', refit=True, return_train_score=False,\n",
              "             scoring=None, verbose=0)"
            ]
          },
          "metadata": {
            "tags": []
          },
          "execution_count": 6
        }
      ]
    },
    {
      "cell_type": "code",
      "metadata": {
        "colab": {
          "base_uri": "https://localhost:8080/"
        },
        "id": "DSVMBcvVmvTU",
        "outputId": "a7334936-f9ba-4b07-dcbb-41347161d670"
      },
      "source": [
        "score = pd.DataFrame(grid.cv_results_) #결과 추출\n",
        "print(\"최적 파라미터:\",grid.best_params_)\n",
        "print(\"최고점수: \",grid.best_score_)"
      ],
      "execution_count": 7,
      "outputs": [
        {
          "output_type": "stream",
          "text": [
            "최적 파라미터: {'max_depth': 8, 'min_samples_leaf': 1, 'min_samples_split': 5, 'n_estimators': 100}\n",
            "최고점수:  0.8827651666007117\n"
          ],
          "name": "stdout"
        }
      ]
    },
    {
      "cell_type": "code",
      "metadata": {
        "colab": {
          "base_uri": "https://localhost:8080/"
        },
        "id": "6Hd5qFafmy20",
        "outputId": "0702b366-9578-4f47-c1ad-5ec23b01bf7f"
      },
      "source": [
        "#최적 파라미터로 성능 측정\n",
        "estimator = grid.best_estimator_\n",
        "pred = estimator.predict(x_test)\n",
        "mse = mean_squared_error(pred,y_test)\n",
        "rmse = np.sqrt(mse)\n",
        "print(\"RMSE:\", rmse)\n",
        "print(\"R-squared: \",estimator.score(x_test,y_test))"
      ],
      "execution_count": 8,
      "outputs": [
        {
          "output_type": "stream",
          "text": [
            "RMSE: 104862.24461495563\n",
            "R-squared:  0.8884508009857133\n"
          ],
          "name": "stdout"
        }
      ]
    },
    {
      "cell_type": "code",
      "metadata": {
        "colab": {
          "base_uri": "https://localhost:8080/",
          "height": 390
        },
        "id": "IJKKcOEvmzRV",
        "outputId": "bb160c34-1819-4848-a08c-2251ef80b216"
      },
      "source": [
        "#각 특징의 중요도\n",
        "import matplotlib.pyplot as plt\n",
        "import seaborn as sns\n",
        "\n",
        "importance = estimator.feature_importances_\n",
        "ftr_importances = pd.Series(importance, index = x_train.columns)\n",
        "ftr = ftr_importances.sort_values(ascending=False)\n",
        "\n",
        "plt.figure(figsize=(8,6))\n",
        "plt.title('Importances of feature')\n",
        "sns.barplot(x=ftr, y=ftr.index)\n",
        "plt.show()"
      ],
      "execution_count": 9,
      "outputs": [
        {
          "output_type": "display_data",
          "data": {
            "image/png": "[encoded data removed]",
            "text/plain": [
              "<Figure size 576x432 with 1 Axes>"
            ]
          },
          "metadata": {
            "tags": [],
            "needs_background": "light"
          }
        }
      ]
    },
    {
      "cell_type": "code",
      "metadata": {
        "id": "K2x5p2WKaMAG"
      },
      "source": [
        ""
      ],
      "execution_count": null,
      "outputs": []
    }
  ]
}