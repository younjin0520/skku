{
 "cells": [
  {
   "cell_type": "code",
   "execution_count": 1,
   "metadata": {
    "colab": {
     "base_uri": "https://localhost:8080/",
     "height": 407
    },
    "id": "_ZwjPaoZmX5i",
    "outputId": "15353486-ac62-4bc4-85c4-6bc76688a43c"
   },
   "outputs": [
    {
     "data": {
      "text/html": [
       "<div>\n",
       "<style scoped>\n",
       "    .dataframe tbody tr th:only-of-type {\n",
       "        vertical-align: middle;\n",
       "    }\n",
       "\n",
       "    .dataframe tbody tr th {\n",
       "        vertical-align: top;\n",
       "    }\n",
       "\n",
       "    .dataframe thead th {\n",
       "        text-align: right;\n",
       "    }\n",
       "</style>\n",
       "<table border=\"1\" class=\"dataframe\">\n",
       "  <thead>\n",
       "    <tr style=\"text-align: right;\">\n",
       "      <th></th>\n",
       "      <th>state</th>\n",
       "      <th>date</th>\n",
       "      <th>wifi</th>\n",
       "      <th>used</th>\n",
       "      <th>capacity</th>\n",
       "      <th>type</th>\n",
       "      <th>generation</th>\n",
       "    </tr>\n",
       "  </thead>\n",
       "  <tbody>\n",
       "    <tr>\n",
       "      <th>0</th>\n",
       "      <td>B</td>\n",
       "      <td>2021.01</td>\n",
       "      <td>wifi</td>\n",
       "      <td>7.91</td>\n",
       "      <td>64</td>\n",
       "      <td>air</td>\n",
       "      <td>1</td>\n",
       "    </tr>\n",
       "    <tr>\n",
       "      <th>1</th>\n",
       "      <td>B</td>\n",
       "      <td>2021.02</td>\n",
       "      <td>wifi</td>\n",
       "      <td>6.92</td>\n",
       "      <td>64</td>\n",
       "      <td>air</td>\n",
       "      <td>2</td>\n",
       "    </tr>\n",
       "    <tr>\n",
       "      <th>2</th>\n",
       "      <td>B</td>\n",
       "      <td>2020.12</td>\n",
       "      <td>wifi</td>\n",
       "      <td>2.02</td>\n",
       "      <td>256</td>\n",
       "      <td>pro</td>\n",
       "      <td>3</td>\n",
       "    </tr>\n",
       "    <tr>\n",
       "      <th>3</th>\n",
       "      <td>C</td>\n",
       "      <td>2021.02</td>\n",
       "      <td>wifi</td>\n",
       "      <td>3.99</td>\n",
       "      <td>128</td>\n",
       "      <td>normal</td>\n",
       "      <td>5</td>\n",
       "    </tr>\n",
       "    <tr>\n",
       "      <th>4</th>\n",
       "      <td>A</td>\n",
       "      <td>2020.11</td>\n",
       "      <td>lte</td>\n",
       "      <td>0.02</td>\n",
       "      <td>256</td>\n",
       "      <td>air</td>\n",
       "      <td>4</td>\n",
       "    </tr>\n",
       "    <tr>\n",
       "      <th>...</th>\n",
       "      <td>...</td>\n",
       "      <td>...</td>\n",
       "      <td>...</td>\n",
       "      <td>...</td>\n",
       "      <td>...</td>\n",
       "      <td>...</td>\n",
       "      <td>...</td>\n",
       "    </tr>\n",
       "    <tr>\n",
       "      <th>5975</th>\n",
       "      <td>A</td>\n",
       "      <td>2020.11</td>\n",
       "      <td>wifi</td>\n",
       "      <td>0.08</td>\n",
       "      <td>256</td>\n",
       "      <td>pro</td>\n",
       "      <td>4</td>\n",
       "    </tr>\n",
       "    <tr>\n",
       "      <th>5976</th>\n",
       "      <td>B</td>\n",
       "      <td>2020.11</td>\n",
       "      <td>wifi</td>\n",
       "      <td>3.08</td>\n",
       "      <td>32</td>\n",
       "      <td>normal</td>\n",
       "      <td>5</td>\n",
       "    </tr>\n",
       "    <tr>\n",
       "      <th>5977</th>\n",
       "      <td>A</td>\n",
       "      <td>2021.02</td>\n",
       "      <td>wifi</td>\n",
       "      <td>0.93</td>\n",
       "      <td>32</td>\n",
       "      <td>normal</td>\n",
       "      <td>8</td>\n",
       "    </tr>\n",
       "    <tr>\n",
       "      <th>5978</th>\n",
       "      <td>B</td>\n",
       "      <td>2021.03</td>\n",
       "      <td>wifi</td>\n",
       "      <td>0.94</td>\n",
       "      <td>32</td>\n",
       "      <td>normal</td>\n",
       "      <td>8</td>\n",
       "    </tr>\n",
       "    <tr>\n",
       "      <th>5979</th>\n",
       "      <td>C</td>\n",
       "      <td>2020.12</td>\n",
       "      <td>lte</td>\n",
       "      <td>7.02</td>\n",
       "      <td>16</td>\n",
       "      <td>mini</td>\n",
       "      <td>2</td>\n",
       "    </tr>\n",
       "  </tbody>\n",
       "</table>\n",
       "<p>5980 rows × 7 columns</p>\n",
       "</div>"
      ],
      "text/plain": [
       "     state     date  wifi  used  capacity    type  generation\n",
       "0        B  2021.01  wifi  7.91        64     air           1\n",
       "1        B  2021.02  wifi  6.92        64     air           2\n",
       "2        B  2020.12  wifi  2.02       256     pro           3\n",
       "3        C  2021.02  wifi  3.99       128  normal           5\n",
       "4        A  2020.11   lte  0.02       256     air           4\n",
       "...    ...      ...   ...   ...       ...     ...         ...\n",
       "5975     A  2020.11  wifi  0.08       256     pro           4\n",
       "5976     B  2020.11  wifi  3.08        32  normal           5\n",
       "5977     A  2021.02  wifi  0.93        32  normal           8\n",
       "5978     B  2021.03  wifi  0.94        32  normal           8\n",
       "5979     C  2020.12   lte  7.02        16    mini           2\n",
       "\n",
       "[5980 rows x 7 columns]"
      ]
     },
     "execution_count": 1,
     "metadata": {},
     "output_type": "execute_result"
    }
   ],
   "source": [
    "from sklearn.metrics import accuracy_score\n",
    "import numpy as np\n",
    "import pandas as pd\n",
    "\n",
    "data = pd.read_excel('./data_new.xlsx')\n",
    "\n",
    "x = data.drop(['price_rate'], axis=1)\n",
    "x = x.drop(['price'],axis=1)\n",
    "x = x.drop(['name'],axis=1)\n",
    "x = x.drop(['price_i'],axis=1)\n",
    "y = data['price']\n",
    "x"
   ]
  },
  {
   "cell_type": "code",
   "execution_count": 2,
   "metadata": {
    "id": "TaDsXKpOuhhF"
   },
   "outputs": [],
   "source": [
    "import random\n",
    "import os\n",
    "random.seed(42)\n",
    "np.random.seed(42)\n",
    "os.environ[\"PYTHONHASHSEED\"] = str(42)"
   ]
  },
  {
   "cell_type": "code",
   "execution_count": 3,
   "metadata": {
    "colab": {
     "base_uri": "https://localhost:8080/",
     "height": 407
    },
    "id": "pS-4QV_omoKw",
    "outputId": "ef6e01cf-be69-4b63-ad7f-184d55365e86"
   },
   "outputs": [
    {
     "data": {
      "text/html": [
       "<div>\n",
       "<style scoped>\n",
       "    .dataframe tbody tr th:only-of-type {\n",
       "        vertical-align: middle;\n",
       "    }\n",
       "\n",
       "    .dataframe tbody tr th {\n",
       "        vertical-align: top;\n",
       "    }\n",
       "\n",
       "    .dataframe thead th {\n",
       "        text-align: right;\n",
       "    }\n",
       "</style>\n",
       "<table border=\"1\" class=\"dataframe\">\n",
       "  <thead>\n",
       "    <tr style=\"text-align: right;\">\n",
       "      <th></th>\n",
       "      <th>state</th>\n",
       "      <th>date</th>\n",
       "      <th>wifi</th>\n",
       "      <th>used</th>\n",
       "      <th>capacity</th>\n",
       "      <th>type</th>\n",
       "      <th>generation</th>\n",
       "    </tr>\n",
       "  </thead>\n",
       "  <tbody>\n",
       "    <tr>\n",
       "      <th>0</th>\n",
       "      <td>1</td>\n",
       "      <td>2021.01</td>\n",
       "      <td>1</td>\n",
       "      <td>7.91</td>\n",
       "      <td>64</td>\n",
       "      <td>0</td>\n",
       "      <td>1</td>\n",
       "    </tr>\n",
       "    <tr>\n",
       "      <th>1</th>\n",
       "      <td>1</td>\n",
       "      <td>2021.02</td>\n",
       "      <td>1</td>\n",
       "      <td>6.92</td>\n",
       "      <td>64</td>\n",
       "      <td>0</td>\n",
       "      <td>2</td>\n",
       "    </tr>\n",
       "    <tr>\n",
       "      <th>2</th>\n",
       "      <td>1</td>\n",
       "      <td>2020.12</td>\n",
       "      <td>1</td>\n",
       "      <td>2.02</td>\n",
       "      <td>256</td>\n",
       "      <td>3</td>\n",
       "      <td>3</td>\n",
       "    </tr>\n",
       "    <tr>\n",
       "      <th>3</th>\n",
       "      <td>2</td>\n",
       "      <td>2021.02</td>\n",
       "      <td>1</td>\n",
       "      <td>3.99</td>\n",
       "      <td>128</td>\n",
       "      <td>2</td>\n",
       "      <td>5</td>\n",
       "    </tr>\n",
       "    <tr>\n",
       "      <th>4</th>\n",
       "      <td>0</td>\n",
       "      <td>2020.11</td>\n",
       "      <td>0</td>\n",
       "      <td>0.02</td>\n",
       "      <td>256</td>\n",
       "      <td>0</td>\n",
       "      <td>4</td>\n",
       "    </tr>\n",
       "    <tr>\n",
       "      <th>...</th>\n",
       "      <td>...</td>\n",
       "      <td>...</td>\n",
       "      <td>...</td>\n",
       "      <td>...</td>\n",
       "      <td>...</td>\n",
       "      <td>...</td>\n",
       "      <td>...</td>\n",
       "    </tr>\n",
       "    <tr>\n",
       "      <th>5975</th>\n",
       "      <td>0</td>\n",
       "      <td>2020.11</td>\n",
       "      <td>1</td>\n",
       "      <td>0.08</td>\n",
       "      <td>256</td>\n",
       "      <td>3</td>\n",
       "      <td>4</td>\n",
       "    </tr>\n",
       "    <tr>\n",
       "      <th>5976</th>\n",
       "      <td>1</td>\n",
       "      <td>2020.11</td>\n",
       "      <td>1</td>\n",
       "      <td>3.08</td>\n",
       "      <td>32</td>\n",
       "      <td>2</td>\n",
       "      <td>5</td>\n",
       "    </tr>\n",
       "    <tr>\n",
       "      <th>5977</th>\n",
       "      <td>0</td>\n",
       "      <td>2021.02</td>\n",
       "      <td>1</td>\n",
       "      <td>0.93</td>\n",
       "      <td>32</td>\n",
       "      <td>2</td>\n",
       "      <td>8</td>\n",
       "    </tr>\n",
       "    <tr>\n",
       "      <th>5978</th>\n",
       "      <td>1</td>\n",
       "      <td>2021.03</td>\n",
       "      <td>1</td>\n",
       "      <td>0.94</td>\n",
       "      <td>32</td>\n",
       "      <td>2</td>\n",
       "      <td>8</td>\n",
       "    </tr>\n",
       "    <tr>\n",
       "      <th>5979</th>\n",
       "      <td>2</td>\n",
       "      <td>2020.12</td>\n",
       "      <td>0</td>\n",
       "      <td>7.02</td>\n",
       "      <td>16</td>\n",
       "      <td>1</td>\n",
       "      <td>2</td>\n",
       "    </tr>\n",
       "  </tbody>\n",
       "</table>\n",
       "<p>5980 rows × 7 columns</p>\n",
       "</div>"
      ],
      "text/plain": [
       "      state     date  wifi  used  capacity  type  generation\n",
       "0         1  2021.01     1  7.91        64     0           1\n",
       "1         1  2021.02     1  6.92        64     0           2\n",
       "2         1  2020.12     1  2.02       256     3           3\n",
       "3         2  2021.02     1  3.99       128     2           5\n",
       "4         0  2020.11     0  0.02       256     0           4\n",
       "...     ...      ...   ...   ...       ...   ...         ...\n",
       "5975      0  2020.11     1  0.08       256     3           4\n",
       "5976      1  2020.11     1  3.08        32     2           5\n",
       "5977      0  2021.02     1  0.93        32     2           8\n",
       "5978      1  2021.03     1  0.94        32     2           8\n",
       "5979      2  2020.12     0  7.02        16     1           2\n",
       "\n",
       "[5980 rows x 7 columns]"
      ]
     },
     "execution_count": 3,
     "metadata": {},
     "output_type": "execute_result"
    }
   ],
   "source": [
    "#문자를 숫자로 라벨링\n",
    "from sklearn.preprocessing import LabelEncoder\n",
    "encoder = LabelEncoder()\n",
    "#encoder.fit(x['name'])\n",
    "#x['name']=encoder.transform(x['name'])\n",
    "\n",
    "encoder.fit(x['state'])\n",
    "x['state']=encoder.transform(x['state'])\n",
    "\n",
    "encoder.fit(x['wifi'])\n",
    "x['wifi']=encoder.transform(x['wifi'])\n",
    "\n",
    "encoder.fit(x['type'])\n",
    "x['type']=encoder.transform(x['type'])\n",
    "x"
   ]
  },
  {
   "cell_type": "code",
   "execution_count": 4,
   "metadata": {
    "colab": {
     "base_uri": "https://localhost:8080/"
    },
    "id": "Be6X5HdKmo3P",
    "outputId": "4eefd4c9-aa68-479a-cb52-ce7ec151083b"
   },
   "outputs": [
    {
     "name": "stdout",
     "output_type": "stream",
     "text": [
      "(5382, 7) (598, 7)\n",
      "(5382,) (598,)\n"
     ]
    }
   ],
   "source": [
    "#test train 나누기\n",
    "from sklearn.model_selection import train_test_split\n",
    "x_train,x_test,y_train,y_test=train_test_split(x,y,train_size=0.9,test_size=0.1)\n",
    "x_test\n",
    "print(x_train.shape,x_test.shape)\n",
    "print(y_train.shape,y_test.shape)"
   ]
  },
  {
   "cell_type": "code",
   "execution_count": 5,
   "metadata": {
    "colab": {
     "base_uri": "https://localhost:8080/"
    },
    "id": "OR0U6oE6D-gS",
    "outputId": "a1402383-0462-4bb0-b128-1c3ae30694fc"
   },
   "outputs": [
    {
     "name": "stdout",
     "output_type": "stream",
     "text": [
      "0.8985128681687288\n",
      "100528.6230695633\n"
     ]
    }
   ],
   "source": [
    "#기본적인 랜덤 포레스트\n",
    "from sklearn.model_selection import cross_val_score, KFold\n",
    "from sklearn.ensemble import RandomForestRegressor\n",
    "from sklearn.model_selection import GridSearchCV\n",
    "from sklearn.metrics import mean_squared_error\n",
    "from sklearn.ensemble import RandomForestRegressor\n",
    "rf2 = RandomForestRegressor()\n",
    "rf2.fit(x_train,y_train)\n",
    "y_predict2 = rf2.predict(x_test)\n",
    "rmse2 = np.sqrt(mean_squared_error(y_predict2,y_test))\n",
    "print(rf2.score(x_test,y_test))\n",
    "print(rmse2)"
   ]
  },
  {
   "cell_type": "code",
   "execution_count": 6,
   "metadata": {
    "colab": {
     "base_uri": "https://localhost:8080/"
    },
    "id": "poz1tH1Emrmt",
    "outputId": "d007842b-063b-4f0c-f0ce-c6dc0706539c"
   },
   "outputs": [
    {
     "data": {
      "text/plain": [
       "GridSearchCV(cv=KFold(n_splits=5, random_state=None, shuffle=True),\n",
       "             estimator=RandomForestRegressor(n_jobs=-1, random_state=0),\n",
       "             param_grid={'max_depth': [6, 8, 10], 'min_samples_leaf': [1, 2, 3],\n",
       "                         'min_samples_split': [2, 3, 4, 5],\n",
       "                         'n_estimators': [50, 100, 150, 200]})"
      ]
     },
     "execution_count": 6,
     "metadata": {},
     "output_type": "execute_result"
    }
   ],
   "source": [
    "rf = RandomForestRegressor(random_state=0,n_jobs=-1)\n",
    "kfold = KFold(n_splits=5, shuffle=True) #5개의 그룹으로 나누어줌\n",
    "\n",
    "parameters={'n_estimators':[50,100,150,200],\n",
    "            'max_depth' : [6,8,10],\n",
    "            'min_samples_split' : [2,3,4,5],\n",
    "            'min_samples_leaf':[1,2,3]}\n",
    "parameter={}\n",
    "grid = GridSearchCV(rf,param_grid=parameters,cv=kfold, refit = True)\n",
    "grid.fit(x_train, y_train)"
   ]
  },
  {
   "cell_type": "code",
   "execution_count": 7,
   "metadata": {},
   "outputs": [
    {
     "data": {
      "text/plain": [
       "['best_model.pkl']"
      ]
     },
     "execution_count": 7,
     "metadata": {},
     "output_type": "execute_result"
    }
   ],
   "source": [
    "#모델 저장\n",
    "import joblib\n",
    "joblib.dump(grid.best_estimator_, 'best_model.pkl')"
   ]
  },
  {
   "cell_type": "code",
   "execution_count": 8,
   "metadata": {
    "colab": {
     "base_uri": "https://localhost:8080/"
    },
    "id": "DSVMBcvVmvTU",
    "outputId": "a7334936-f9ba-4b07-dcbb-41347161d670"
   },
   "outputs": [
    {
     "name": "stdout",
     "output_type": "stream",
     "text": [
      "최적 파라미터: {'max_depth': 8, 'min_samples_leaf': 1, 'min_samples_split': 3, 'n_estimators': 200}\n",
      "최고점수:  0.9016401012967682\n"
     ]
    }
   ],
   "source": [
    "score = pd.DataFrame(grid.cv_results_) #결과 추출\n",
    "print(\"최적 파라미터:\",grid.best_params_)\n",
    "print(\"최고점수: \",grid.best_score_)"
   ]
  },
  {
   "cell_type": "code",
   "execution_count": 9,
   "metadata": {
    "colab": {
     "base_uri": "https://localhost:8080/"
    },
    "id": "6Hd5qFafmy20",
    "outputId": "0702b366-9578-4f47-c1ad-5ec23b01bf7f"
   },
   "outputs": [
    {
     "name": "stdout",
     "output_type": "stream",
     "text": [
      "RMSE: 97972.57962961415\n",
      "R-squared:  0.9036080874992489\n"
     ]
    }
   ],
   "source": [
    "#최적 파라미터로 성능 측정\n",
    "estimator = grid.best_estimator_\n",
    "pred = estimator.predict(x_test)\n",
    "mse = mean_squared_error(pred,y_test)\n",
    "rmse = np.sqrt(mse)\n",
    "print(\"RMSE:\", rmse)\n",
    "print(\"R-squared: \",estimator.score(x_test,y_test))"
   ]
  },
  {
   "cell_type": "code",
   "execution_count": 10,
   "metadata": {
    "colab": {
     "base_uri": "https://localhost:8080/",
     "height": 390
    },
    "id": "IJKKcOEvmzRV",
    "outputId": "bb160c34-1819-4848-a08c-2251ef80b216"
   },
   "outputs": [
    {
     "data": {
      "image/png": "[encoded data removed]",
      "text/plain": [
       "<Figure size 576x432 with 1 Axes>"
      ]
     },
     "metadata": {
      "needs_background": "light"
     },
     "output_type": "display_data"
    }
   ],
   "source": [
    "#각 특징의 중요도\n",
    "import matplotlib.pyplot as plt\n",
    "import seaborn as sns\n",
    "\n",
    "importance = estimator.feature_importances_\n",
    "ftr_importances = pd.Series(importance, index = x_train.columns)\n",
    "ftr = ftr_importances.sort_values(ascending=False)\n",
    "\n",
    "plt.figure(figsize=(8,6))\n",
    "plt.title('Importances of feature')\n",
    "sns.barplot(x=ftr, y=ftr.index)\n",
    "plt.show()"
   ]
  },
  {
   "cell_type": "code",
   "execution_count": null,
   "metadata": {
    "id": "K2x5p2WKaMAG"
   },
   "outputs": [],
   "source": []
  }
 ],
 "metadata": {
  "colab": {
   "collapsed_sections": [],
   "name": "random_forest.ipynb",
   "provenance": []
  },
  "kernelspec": {
   "display_name": "Python 3",
   "language": "python",
   "name": "python3"
  },
  "language_info": {
   "codemirror_mode": {
    "name": "ipython",
    "version": 3
   },
   "file_extension": ".py",
   "mimetype": "text/x-python",
   "name": "python",
   "nbconvert_exporter": "python",
   "pygments_lexer": "ipython3",
   "version": "3.6.10"
  }
 },
 "nbformat": 4,
 "nbformat_minor": 1
}
