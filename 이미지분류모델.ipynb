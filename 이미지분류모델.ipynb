{
 "cells": [
  {
   "cell_type": "code",
   "execution_count": null,
   "metadata": {
    "id": "e3wQYXEMjmu9"
   },
   "outputs": [],
   "source": [
    "import os \n",
    "import numpy as np\n",
    "import pandas as pd\n",
    "import matplotlib.pyplot as plt\n",
    "from PIL import Image\n",
    "from sklearn.preprocessing import LabelEncoder\n",
    "import torch\n",
    "import torch.nn.functional as F\n",
    "import torchvision\n",
    "from torchvision import transforms\n",
    "from torch.utils.data.dataset import Dataset\n",
    "from torch.utils.data import DataLoader\n",
    "from sklearn.model_selection import train_test_split"
   ]
  },
  {
   "cell_type": "code",
   "execution_count": null,
   "metadata": {
    "id": "70akjL7ujq2d"
   },
   "outputs": [],
   "source": [
    "!mkdir train_set\n",
    "!unzip -O cp949 /content/image.zip -d /content/train_set"
   ]
  },
  {
   "cell_type": "code",
   "execution_count": null,
   "metadata": {
    "colab": {
     "base_uri": "https://localhost:8080/"
    },
    "id": "qlX3t_j7jsRU",
    "outputId": "c55335a8-39c6-45e9-cb14-d91f4710d074"
   },
   "outputs": [],
   "source": [
    "dataframe = pd.read_csv('/content/data.csv')\n",
    "print('Training set: {}'.format(dataframe.shape[0]))"
   ]
  },
  {
   "cell_type": "code",
   "execution_count": null,
   "metadata": {
    "id": "RP69CFGMjxDM"
   },
   "outputs": [],
   "source": [
    "train_dir = './train_set/new_image'\n",
    "dataframe.image = dataframe.image.apply(lambda x: x+'.jpg')\n",
    "dataframe.image = dataframe.image.apply(lambda x:train_dir+'/'+x)"
   ]
  },
  {
   "cell_type": "code",
   "execution_count": null,
   "metadata": {
    "id": "N1nmpRPO1hZx"
   },
   "outputs": [],
   "source": [
    "from sklearn.preprocessing import LabelEncoder\n",
    "encoder = LabelEncoder()\n",
    "encoder.fit(dataframe['state'])\n",
    "dataframe['state']=encoder.transform(dataframe['state'])"
   ]
  },
  {
   "cell_type": "code",
   "execution_count": null,
   "metadata": {
    "id": "TZCu4nj9kLKN"
   },
   "outputs": [],
   "source": [
    "class setting(Dataset):\n",
    "    def __init__(self,dataframe,answer,transform):\n",
    "        self.dataframe = dataframe\n",
    "        self.transform = transform\n",
    "        self.answer = answer\n",
    "        \n",
    "    def __getitem__(self,index):\n",
    "        x = Image.open(self.dataframe.iloc[index,0]).convert('RGB')\n",
    "        if self.transform:\n",
    "            x = self.transform(x)\n",
    "        y = self.answer.iloc[index,0]\n",
    "        return x,y\n",
    "        \n",
    "    def __len__(self):\n",
    "        return self.dataframe.shape[0]"
   ]
  },
  {
   "cell_type": "code",
   "execution_count": null,
   "metadata": {
    "id": "C5WaOIcck7HM"
   },
   "outputs": [],
   "source": [
    "transformer = transforms.Compose([transforms.Resize(256),\n",
    "                                  transforms.CenterCrop(224),\n",
    "                                  transforms.ToTensor(),\n",
    "                                  transforms.Normalize([0.485, 0.456, 0.406], [0.229, 0.224, 0.225])])"
   ]
  },
  {
   "cell_type": "code",
   "execution_count": null,
   "metadata": {
    "id": "nsE7z5KUk9xV"
   },
   "outputs": [],
   "source": [
    "def print_result(train_loss,val_loss,val_acc):\n",
    "    print('train_loss: {:.4f}, val_loss: {:.4f}, val_acc: {:.4f}'.format(train_loss, val_loss, val_acc))"
   ]
  },
  {
   "cell_type": "code",
   "execution_count": null,
   "metadata": {
    "id": "rnStH11qlAuk"
   },
   "outputs": [],
   "source": [
    "def training(model, loss_function, optimizer,scheduler, num_epochs):\n",
    "\n",
    "    best_valid_loss = 1000\n",
    "    best_valid_acc = 0\n",
    "    patience = 0\n",
    "\n",
    "    for epoch in range(num_epochs):\n",
    "        print('-'*20)\n",
    "        print('best_training epoch {}/{}'.format(epoch+1, num_epochs))\n",
    "        print('-'*20)\n",
    "        \n",
    "        # Training\n",
    "        train_losses = []\n",
    "        model.train()\n",
    "        for x,y in train_loader:\n",
    "            optimizer.zero_grad()\n",
    "            x,y = x.to(device),y.to(device)\n",
    "            y_hat = model(x)\n",
    "            loss = loss_function(y_hat,y)\n",
    "            train_losses.append(loss.item())\n",
    "            loss.backward()\n",
    "            optimizer.step()\n",
    "            \n",
    "\n",
    "            \n",
    "        # Validation\n",
    "        val_losses = []\n",
    "        model.eval()\n",
    "        with torch.no_grad():\n",
    "          correct = 0\n",
    "          total = 0\n",
    "          for x,y in val_loader:\n",
    "            x,y = x.to(device),y.to(device)\n",
    "            y_hat = model(x)\n",
    "            loss = loss_function(y_hat,y)\n",
    "            val_losses.append(loss.item())\n",
    "            _, predicted = torch.max(y_hat.data, 1)\n",
    "            total += len(y)\n",
    "            correct += (predicted == y).sum().item()\n",
    "\n",
    "        # Save best_model\n",
    "        if best_valid_loss > np.mean(val_losses):\n",
    "          torch.save(model.state_dict(), './best_model.pth')\n",
    "          best_valid_loss = np.mean(val_losses)\n",
    "          best_valid_acc = correct/total\n",
    "          patience = 0\n",
    "\n",
    "        scheduler.step(metrics=np.mean(val_losses)) # adjust learning rate (decay)\n",
    "\n",
    "        patience += 1\n",
    "        # print the result of epoch\n",
    "        print_result(np.mean(train_losses),np.mean(val_losses),correct/total)\n",
    "        if patience > 8:\n",
    "          print('Early stop.')\n",
    "          return best_valid_acc\n",
    "        \n",
    "    print('Finish Training.')\n",
    "    return best_valid_acc"
   ]
  },
  {
   "cell_type": "code",
   "execution_count": null,
   "metadata": {
    "id": "jBBqV6TtlIm4"
   },
   "outputs": [],
   "source": [
    "device = torch.device('cuda:0' if torch.cuda.is_available else 'cpu')"
   ]
  },
  {
   "cell_type": "code",
   "execution_count": null,
   "metadata": {
    "id": "QWkFDaDRlKz0"
   },
   "outputs": [],
   "source": [
    "training_samples = dataframe.shape[0] \n",
    "test_size=0.05\n",
    "batch_size = 64\n",
    "\n",
    "sample_dataframe = dataframe.sample(training_samples)\n",
    "x_data = pd.DataFrame(sample_dataframe.image)\n",
    "y_data = pd.DataFrame(sample_dataframe.state)\n",
    "x_train,x_val,y_train,y_val = train_test_split(x_data,y_data,test_size=test_size, stratify=y_data)\n",
    "\n",
    "train_set = setting(x_train, y_train, transform=transformer)\n",
    "val_set = setting(x_val, y_val, transform=transformer)\n",
    "train_loader = DataLoader(train_set, batch_size=batch_size, shuffle=True)\n",
    "val_loader = DataLoader(val_set , batch_size=batch_size, shuffle=True)"
   ]
  },
  {
   "cell_type": "code",
   "execution_count": null,
   "metadata": {
    "id": "Enay1KQ-lMy9"
   },
   "outputs": [],
   "source": [
    "class net(torch.nn.Module):\n",
    "    def __init__(self, base_model, base_out_features, num_classes):\n",
    "        super(net,self).__init__()\n",
    "        self.base_model=base_model\n",
    "        self.linear1 = torch.nn.Linear(base_out_features, 512)\n",
    "        self.output = torch.nn.Linear(512,num_classes)\n",
    "    def forward(self,x):\n",
    "        x = F.relu(self.base_model(x))\n",
    "        x = F.relu(self.linear1(x))\n",
    "        x = self.output(x)\n",
    "        return x\n",
    "\n",
    "res = torchvision.models.resnet50(pretrained=True)\n",
    "for param in res.parameters():\n",
    "    param.requires_grad=False\n",
    "\n",
    "model = net(base_model=res, base_out_features=res.fc.out_features, num_classes=3)\n",
    "model= model.to(device)"
   ]
  },
  {
   "cell_type": "code",
   "execution_count": null,
   "metadata": {
    "id": "3DJSez7tlRml"
   },
   "outputs": [],
   "source": [
    "CE_loss = torch.nn.CrossEntropyLoss()\n",
    "\n",
    "optimizer = torch.optim.Adam([param for param in model.parameters() if param.requires_grad], lr=0.0003)\n",
    "scheduler = torch.optim.lr_scheduler.ReduceLROnPlateau(optimizer=optimizer,patience=3, factor=0.95, verbose=True)\n",
    "EPOCHS = 30"
   ]
  },
  {
   "cell_type": "code",
   "execution_count": null,
   "metadata": {
    "id": "3INL0Dx0lvT9"
   },
   "outputs": [],
   "source": [
    "val_acc_best = training(model=model, loss_function=CE_loss, optimizer=optimizer, scheduler = scheduler, num_epochs=EPOCHS)\n",
    "print(val_acc_best)"
   ]
  }
 ],
 "metadata": {
  "accelerator": "GPU",
  "colab": {
   "collapsed_sections": [],
   "name": "이미지분류모델.ipynb",
   "provenance": []
  },
  "kernelspec": {
   "display_name": "Python 3",
   "language": "python",
   "name": "python3"
  },
  "language_info": {
   "codemirror_mode": {
    "name": "ipython",
    "version": 3
   },
   "file_extension": ".py",
   "mimetype": "text/x-python",
   "name": "python",
   "nbconvert_exporter": "python",
   "pygments_lexer": "ipython3",
   "version": "3.6.10"
  }
 },
 "nbformat": 4,
 "nbformat_minor": 1
}
