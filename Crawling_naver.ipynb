{
 "cells": [
  {
   "cell_type": "code",
   "execution_count": 2,
   "metadata": {},
   "outputs": [],
   "source": [
    "import requests\n",
    "from bs4 import BeautifulSoup\n",
    "from selenium import webdriver\n",
    "import time\n",
    "import openpyxl #엑셀사용하기"
   ]
  },
  {
   "cell_type": "code",
   "execution_count": null,
   "metadata": {},
   "outputs": [],
   "source": [
    "driver = webdriver.Chrome('./chromedriver.exe')\n",
    "\n",
    "wb = openpyxl.Workbook()\n",
    "sheet = wb.active #sheet활성화\n",
    "sheet.append([\"태블릿명\", \"가격\",\"날짜\"])\n",
    "search = input(\"검색어 입력: \") \n",
    "for page in range(1,24,1):\n",
    "    #url에서 데이터 가져오기\n",
    "    driver.get(\"https://search.shopping.naver.com/search/all?frm=NVSHATC&origQuery={name}&pagingIndex={page}&pagingSize=20&productSet=total&query=%EC%95%84%EC%9D%B4%ED%8C%A8%EB%93%9C&sort=rel&timestamp=&used=true&viewType=list\".format(page=page))\n",
    "    driver.implicitly_wait(3)#로딩을 위해 3초 기다림\n",
    "    last_height = driver.execute_script(\"return document.body.scrollHeight\")\n",
    "    while True:\n",
    "        driver.execute_script(\"window.scrollTo(0,document.body.scrollHeight);\")\n",
    "        #HTML코드 파싱\n",
    "        time.sleep(1)\n",
    "        new_height = driver.execute_script(\"return document.body.scrollHeight\")\n",
    "        if new_height == last_height:\n",
    "            break\n",
    "        last_height=new_height\n",
    "    \n",
    "    \n",
    "    #url에서 데이터 가져오기\n",
    "    html = BeautifulSoup(driver.page_source, \"html.parser\")\n",
    "    #select함수는 컨테이너를 차례로 리스트로 저장\n",
    "    container = html.select(\"div.basicList_info_area__17Xyo\")\n",
    "    for con in container:\n",
    "        name = con.select_one(\"div.basicList_title__3P9Q7\").text.strip()\n",
    "        price = con.select_one(\"span.price_num__2WUXn\").text.strip()\n",
    "        date = con.select_one(\"span.basicList_etc__2uAYO\").text.strip()\n",
    "        sheet.append([name, price,date])\n",
    "        print(date)\n",
    "wb.save(\"tablet.xlsx\")"
   ]
  },
  {
   "cell_type": "code",
   "execution_count": null,
   "metadata": {},
   "outputs": [],
   "source": []
  },
  {
   "cell_type": "code",
   "execution_count": 17,
   "metadata": {},
   "outputs": [
    {
     "name": "stdout",
     "output_type": "stream",
     "text": [
      "검색어 입력: 아이패드 미니5\n",
      "등록일 2021.01.\n",
      "등록일 2021.01.\n",
      "등록일 2021.03.\n",
      "등록일 2021.03.\n",
      "등록일 2020.07.\n",
      "등록일 2020.11.\n",
      "등록일 2020.07.\n",
      "등록일 2021.03.\n",
      "등록일 2021.02.\n",
      "등록일 2020.02.\n",
      "등록일 2021.03.\n",
      "등록일 2021.02.\n",
      "등록일 2021.02.\n",
      "등록일 2021.02.\n",
      "등록일 2021.01.\n",
      "등록일 2021.01.\n",
      "등록일 2020.07.\n",
      "등록일 2020.07.\n",
      "등록일 2020.11.\n",
      "등록일 2021.01.\n",
      "등록일 2021.03.\n",
      "등록일 2020.10.\n",
      "등록일 2021.03.\n",
      "등록일 2020.11.\n",
      "등록일 2020.10.\n",
      "등록일 2020.11.\n",
      "등록일 2020.10.\n",
      "등록일 2021.01.\n",
      "등록일 2020.07.\n"
     ]
    }
   ],
   "source": [
    "driver = webdriver.Chrome('./chromedriver.exe')\n",
    "\n",
    "wb = openpyxl.Workbook()\n",
    "sheet = wb.active #sheet활성화\n",
    "sheet.append([\"검색어\",\"태블릿명\", \"가격\",\"날짜\"])\n",
    "search = input(\"검색어 입력: \") \n",
    "for page in range(1,6):\n",
    "    #url에서 데이터 가져오기\n",
    "    driver.get(\"https://search.shopping.naver.com/search/all?catId=50000152&frm=NVSHCAT&origQuery={name}&pagingIndex={page}&pagingSize=40&productSet=total&query={name}&sort=rel&timestamp=&used=true&viewType=list\".format(name=search,page=page))\n",
    "    driver.implicitly_wait(3)#로딩을 위해 3초 기다림\n",
    "    last_height = driver.execute_script(\"return document.body.scrollHeight\")\n",
    "    while True:\n",
    "        driver.execute_script(\"window.scrollTo(0,document.body.scrollHeight);\")\n",
    "        #HTML코드 파싱\n",
    "        time.sleep(1)\n",
    "        new_height = driver.execute_script(\"return document.body.scrollHeight\")\n",
    "        if new_height == last_height:\n",
    "            break\n",
    "        last_height=new_height\n",
    "    \n",
    "    \n",
    "    #url에서 데이터 가져오기\n",
    "    html = BeautifulSoup(driver.page_source, \"html.parser\")\n",
    "    #select함수는 컨테이너를 차례로 리스트로 저장\n",
    "    container = html.select(\"div.basicList_info_area__17Xyo\")\n",
    "    for con in container:\n",
    "        name2 = con.select_one(\"div.basicList_title__3P9Q7\").text.strip()\n",
    "        price = con.select_one(\"span.price_num__2WUXn\").text.strip()\n",
    "        date = con.select_one(\"span.basicList_etc__2uAYO\").text.strip()\n",
    "        sheet.append([search,name2, price,date])\n",
    "        print(date)\n",
    "wb.save(\"tablet_shopping_\"+search+\".xlsx\")"
   ]
  },
  {
   "cell_type": "code",
   "execution_count": null,
   "metadata": {},
   "outputs": [],
   "source": []
  }
 ],
 "metadata": {
  "kernelspec": {
   "display_name": "Python 3",
   "language": "python",
   "name": "python3"
  },
  "language_info": {
   "codemirror_mode": {
    "name": "ipython",
    "version": 3
   },
   "file_extension": ".py",
   "mimetype": "text/x-python",
   "name": "python",
   "nbconvert_exporter": "python",
   "pygments_lexer": "ipython3",
   "version": "3.6.10"
  }
 },
 "nbformat": 4,
 "nbformat_minor": 4
}
